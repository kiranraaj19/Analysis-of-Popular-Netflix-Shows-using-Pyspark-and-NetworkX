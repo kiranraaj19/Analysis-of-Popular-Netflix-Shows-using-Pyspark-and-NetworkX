{
 "cells": [
  {
   "cell_type": "code",
   "execution_count": 7,
   "id": "eebdcd1c",
   "metadata": {},
   "outputs": [],
   "source": [
    "# For Creating Networks\n",
    "\n",
    "import networkx as nx\n",
    "import pandas as pd\n",
    "import plotly.graph_objects as go\n",
    "\n",
    "# For drawing Graphs\n",
    "import matplotlib.pyplot as plt\n",
    "\n",
    "# For generating random color\n",
    "import random\n",
    "\n",
    "G = nx.Graph()"
   ]
  },
  {
   "cell_type": "code",
   "execution_count": 8,
   "id": "1fb67465",
   "metadata": {},
   "outputs": [],
   "source": [
    "df = pd.read_csv(\"./netflix_db.csv\")\n",
    "## add new features in the dataset\n",
    "df[\"date_added\"] = pd.to_datetime(df['date_added'])\n",
    "df['year_added'] = df['date_added'].dt.year\n",
    "df['month_added'] = df['date_added'].dt.month\n",
    "\n",
    "df['season_count'] = df.apply(lambda x : x['duration'].split(\" \")[0] if \"Season\" in x['duration'] else \"\", axis = 1)\n",
    "df['duration'] = df.apply(lambda x : x['duration'].split(\" \")[0] if \"Season\" not in x['duration'] else \"\", axis = 1)"
   ]
  },
  {
   "cell_type": "code",
   "execution_count": 9,
   "id": "222437b2",
   "metadata": {},
   "outputs": [
    {
     "name": "stdout",
     "output_type": "stream",
     "text": [
      "[1, 2, 3, 4, 5, 6, 7, 8, 9, 10, 11, 12, 13, 14, 15, 16, 17, 18, 19, 20, 21, 22, 23, 24, 25, 26, 27, 28, 29, 30, 31, 32, 33, 34, 35, 36, 37, 38, 39, 40, 41, 42, 43, 44, 45, 46, 47, 48, 49, 50, 51, 52, 53, 54, 55, 56, 57, 58, 59, 60, 61, 62, 63, 64, 65, 66, 67, 68, 69, 70, 71, 72]\n",
      "['International TV Shows', ' Korean TV Shows', ' Romantic TV Shows', 'Documentaries', ' International Movies', 'Comedies', ' Dramas', 'Dramas', ' Independent Movies', \"Kids' TV\", ' Thrillers', 'Crime TV Shows', ' International TV Shows', ' Spanish-Language TV Shows', 'Reality TV', 'Action & Adventure', ' Comedies', ' TV Comedies', 'Docuseries', 'Children & Family Movies', 'Anime Series', ' Stand-Up Comedy & Talk Shows', 'TV Comedies', ' TV Dramas', ' Romantic Movies', 'Stand-Up Comedy', 'Movies', ' TV Mysteries', 'Thrillers', ' Children & Family Movies', ' Classic Movies', ' TV Sci-Fi & Fantasy', ' Sci-Fi & Fantasy', \" Kids' TV\", 'TV Dramas', ' Anime Features', ' Docuseries', ' Sports Movies', ' Reality TV', ' TV Action & Adventure', ' Cult Movies', 'Horror Movies', 'Classic Movies', 'Cult Movies', ' Teen TV Shows', 'British TV Shows', ' Music & Musicals', 'Anime Features', ' LGBTQ Movies', 'International Movies', ' Science & Nature TV', ' Horror Movies', ' Faith & Spirituality', ' TV Horror', 'TV Action & Adventure', ' Stand-Up Comedy', ' TV Thrillers', ' Crime TV Shows', 'Sci-Fi & Fantasy', 'TV Horror', 'Classic & Cult TV', 'Stand-Up Comedy & Talk Shows', 'Romantic TV Shows', 'TV Shows', ' Documentaries', 'Romantic Movies', 'Independent Movies', 'Music & Musicals', 'Spanish-Language TV Shows', ' Classic & Cult TV', 'Sports Movies', 'TV Sci-Fi & Fantasy']\n",
      "{'International TV Shows': 1, ' Korean TV Shows': 2, ' Romantic TV Shows': 3, 'Documentaries': 4, ' International Movies': 5, 'Comedies': 6, ' Dramas': 7, 'Dramas': 8, ' Independent Movies': 9, \"Kids' TV\": 10, ' Thrillers': 11, 'Crime TV Shows': 12, ' International TV Shows': 13, ' Spanish-Language TV Shows': 14, 'Reality TV': 15, 'Action & Adventure': 16, ' Comedies': 17, ' TV Comedies': 18, 'Docuseries': 19, 'Children & Family Movies': 20, 'Anime Series': 21, ' Stand-Up Comedy & Talk Shows': 22, 'TV Comedies': 23, ' TV Dramas': 24, ' Romantic Movies': 25, 'Stand-Up Comedy': 26, 'Movies': 27, ' TV Mysteries': 28, 'Thrillers': 29, ' Children & Family Movies': 30, ' Classic Movies': 31, ' TV Sci-Fi & Fantasy': 32, ' Sci-Fi & Fantasy': 33, \" Kids' TV\": 34, 'TV Dramas': 35, ' Anime Features': 36, ' Docuseries': 37, ' Sports Movies': 38, ' Reality TV': 39, ' TV Action & Adventure': 40, ' Cult Movies': 41, 'Horror Movies': 42, 'Classic Movies': 43, 'Cult Movies': 44, ' Teen TV Shows': 45, 'British TV Shows': 46, ' Music & Musicals': 47, 'Anime Features': 48, ' LGBTQ Movies': 49, 'International Movies': 50, ' Science & Nature TV': 51, ' Horror Movies': 52, ' Faith & Spirituality': 53, ' TV Horror': 54, 'TV Action & Adventure': 55, ' Stand-Up Comedy': 56, ' TV Thrillers': 57, ' Crime TV Shows': 58, 'Sci-Fi & Fantasy': 59, 'TV Horror': 60, 'Classic & Cult TV': 61, 'Stand-Up Comedy & Talk Shows': 62, 'Romantic TV Shows': 63, 'TV Shows': 64, ' Documentaries': 65, 'Romantic Movies': 66, 'Independent Movies': 67, 'Music & Musicals': 68, 'Spanish-Language TV Shows': 69, ' Classic & Cult TV': 70, 'Sports Movies': 71, 'TV Sci-Fi & Fantasy': 72}\n"
     ]
    }
   ],
   "source": [
    "## NODES\n",
    "\n",
    "# category1 -> movies\n",
    "cat2 = {}\n",
    "cnt = 1\n",
    "for index, row in df.iterrows():\n",
    "    for x in row['listed_in'].split(','):\n",
    "        if x in cat2:\n",
    "            pass\n",
    "        else:\n",
    "            cat2[x]=cnt\n",
    "            cnt+=1\n",
    "\n",
    "node_id = []\n",
    "node_name = []\n",
    "for x in cat2:\n",
    "    node_id.append(cat2[x])\n",
    "    node_name.append(x)\n",
    "\n",
    "print(node_id)\n",
    "print(node_name)\n",
    "\n",
    "di = {\"ID\":node_id,\"Nodes\":node_name}\n",
    "\n",
    "df = pd.DataFrame(di)\n",
    "\n",
    "print(cat2)"
   ]
  },
  {
   "cell_type": "code",
   "execution_count": 4,
   "id": "69470903",
   "metadata": {},
   "outputs": [],
   "source": [
    "df.to_csv('nodes.csv',index=False) "
   ]
  }
 ],
 "metadata": {
  "kernelspec": {
   "display_name": "Python 3 (ipykernel)",
   "language": "python",
   "name": "python3"
  },
  "language_info": {
   "codemirror_mode": {
    "name": "ipython",
    "version": 3
   },
   "file_extension": ".py",
   "mimetype": "text/x-python",
   "name": "python",
   "nbconvert_exporter": "python",
   "pygments_lexer": "ipython3",
   "version": "3.10.6"
  }
 },
 "nbformat": 4,
 "nbformat_minor": 5
}
